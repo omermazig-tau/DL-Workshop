{
 "cells": [
  {
   "cell_type": "code",
   "execution_count": null,
   "id": "initial_id",
   "metadata": {
    "collapsed": true
   },
   "outputs": [],
   "source": [
    "import pathlib\n",
    "\n",
    "root_dir = 'dataset'\n",
    "video_files = list(pathlib.Path(root_dir).rglob('*.avi'))"
   ]
  },
  {
   "cell_type": "code",
   "execution_count": null,
   "outputs": [],
   "source": [
    "from utils import change_video_resolution_and_fps\n",
    "from tqdm import tqdm\n",
    "\n",
    "\n",
    "old_res = (1280, 720)\n",
    "res_ratio = old_res[0]/old_res[1]\n",
    "height = 450\n",
    "new_res = (int(height * res_ratio), height)\n",
    "for video_file in tqdm(video_files):\n",
    "    orig_video_file_name = video_file.name\n",
    "    old_video_file = video_file.parent.joinpath(\"temp.avi\")\n",
    "    video_file.rename(old_video_file)\n",
    "    change_video_resolution_and_fps(str(old_video_file), str(video_file), new_res, fps_decrease_factor=4)\n",
    "    old_video_file.unlink()"
   ],
   "metadata": {
    "collapsed": false
   },
   "id": "b602a20b5c38ed3"
  },
  {
   "cell_type": "code",
   "execution_count": null,
   "outputs": [],
   "source": [],
   "metadata": {
    "collapsed": false
   },
   "id": "bff14d322431f2c0"
  }
 ],
 "metadata": {
  "kernelspec": {
   "display_name": "Python 3",
   "language": "python",
   "name": "python3"
  },
  "language_info": {
   "codemirror_mode": {
    "name": "ipython",
    "version": 2
   },
   "file_extension": ".py",
   "mimetype": "text/x-python",
   "name": "python",
   "nbconvert_exporter": "python",
   "pygments_lexer": "ipython2",
   "version": "2.7.6"
  }
 },
 "nbformat": 4,
 "nbformat_minor": 5
}
