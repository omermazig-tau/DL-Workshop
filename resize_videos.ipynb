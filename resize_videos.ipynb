{
 "cells": [
  {
   "cell_type": "code",
   "execution_count": null,
   "outputs": [],
   "source": [
    "import pathlib\n",
    "\n",
    "root_dir = \"TODO\"\n",
    "video_files = list(pathlib.Path(root_dir).rglob('*.avi'))\n",
    "if not len(video_files):\n",
    "    raise Exception"
   ],
   "metadata": {
    "collapsed": false
   },
   "id": "69ce33fe4095f6b4"
  },
  {
   "cell_type": "code",
   "execution_count": null,
   "outputs": [],
   "source": [
    "from utils import change_video_resolution_and_fps\n",
    "from tqdm import tqdm\n",
    "\n",
    "\n",
    "new_res = (320, 256)\n",
    "for video_file in tqdm(video_files):\n",
    "    orig_video_file_name = video_file.name\n",
    "    old_video_file = video_file.parent.joinpath(\"temp.avi\")\n",
    "    video_file.rename(old_video_file)\n",
    "    change_video_resolution_and_fps(str(old_video_file), str(video_file), new_res)\n",
    "    old_video_file.unlink()"
   ],
   "metadata": {
    "collapsed": false
   },
   "id": "651575b751fd7d9f"
  },
  {
   "cell_type": "code",
   "execution_count": null,
   "outputs": [],
   "source": [],
   "metadata": {
    "collapsed": false
   },
   "id": "bff14d322431f2c0"
  }
 ],
 "metadata": {
  "kernelspec": {
   "display_name": "Python 3",
   "language": "python",
   "name": "python3"
  },
  "language_info": {
   "codemirror_mode": {
    "name": "ipython",
    "version": 2
   },
   "file_extension": ".py",
   "mimetype": "text/x-python",
   "name": "python",
   "nbconvert_exporter": "python",
   "pygments_lexer": "ipython2",
   "version": "2.7.6"
  }
 },
 "nbformat": 4,
 "nbformat_minor": 5
}
