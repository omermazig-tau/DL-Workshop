{
 "cells": [
  {
   "cell_type": "code",
   "execution_count": null,
   "outputs": [],
   "source": [
    "import pandas as pd\n",
    "\n",
    "# from nba_api.stats.library.data import teams\n",
    "# team_id_to_name = {team[0]: team[-3] for team in teams}"
   ],
   "metadata": {
    "collapsed": false
   }
  },
  {
   "cell_type": "code",
   "execution_count": null,
   "outputs": [],
   "source": [
    "from nba_api.stats.endpoints import *"
   ],
   "metadata": {
    "collapsed": false
   }
  },
  {
   "cell_type": "code",
   "execution_count": null,
   "outputs": [],
   "source": [
    "from utils import gap_manager\n",
    "\n",
    "with gap_manager.action_gap():\n",
    "    game_ids = \\\n",
    "        leaguegamefinder.LeagueGameFinder(league_id_nullable='00').get_data_frames()[0].drop_duplicates(\n",
    "            subset='GAME_ID',\n",
    "            keep='first')[\n",
    "            'GAME_ID']"
   ],
   "metadata": {
    "collapsed": false
   }
  },
  {
   "cell_type": "code",
   "execution_count": null,
   "outputs": [],
   "source": [
    "from shutil import copytree\n",
    "from shutil import rmtree\n",
    "import numpy as np\n",
    "import json\n",
    "import pathlib\n",
    "import youtube_dl\n",
    "import re\n",
    "\n",
    "from utils import get_pbp_data, get_video_event_dict, cut_video, add_seconds_to_time\n",
    "\n",
    "# pandas random relay on numpy random, so this sets the seed for it too\n",
    "# TODO - remove this eventually\n",
    "np.random.seed(42)\n",
    "\n",
    "NUMBER_OF_PLAYS = 10\n",
    "\n",
    "game_event_action_ids = set()\n",
    "video_events = list()\n",
    "\n",
    "p = re.compile('(\\s{2}|\\' )([\\w+ ]*)')\n",
    "\n",
    "random_game_ids = game_ids.sample(2 * NUMBER_OF_PLAYS, replace=True)\n",
    "for game_id in random_game_ids:\n",
    "    df = get_pbp_data(game_id=game_id)\n",
    "\n",
    "    df['DESCRIPTION'] = df['HOMEDESCRIPTION'].fillna(df['VISITORDESCRIPTION'])\n",
    "    only_shots = df[df['EVENTMSGTYPE'] <= 2]\n",
    "    shots_event_data = only_shots[\n",
    "        ['EVENTNUM', 'EVENTMSGACTIONTYPE', 'PERIOD', 'PCTIMESTRING', 'DESCRIPTION', 'EVENTMSGTYPE',\n",
    "         'VIDEO_AVAILABLE_FLAG']]\n",
    "\n",
    "    random_shot_event_data = shots_event_data.sample(1)\n",
    "    event_id, event_action_id, period, play_clock_time, description, event_msg_type, video_available_flag = \\\n",
    "        random_shot_event_data.iloc[0]\n",
    "    event_action_id = event_action_id.item()\n",
    "    if not video_available_flag:\n",
    "        continue\n",
    "\n",
    "    game_event_action_ids.add(event_action_id)\n",
    "    video_event_dict = get_video_event_dict(game_id=game_id, game_event_id=str(event_id))\n",
    "    video_urls = video_event_dict['resultSets']['Meta']['videoUrls']\n",
    "    playlist = video_event_dict['resultSets']['playlist']\n",
    "    video_event = {'desc': playlist[0]['dsc'], 'time': play_clock_time, 'event_action_id': event_action_id,\n",
    "                   'video': video_urls[0]['lurl'], }\n",
    "    video_events.append(video_event)\n",
    "\n",
    "    # if playlist[0]['dsc'] != description:\n",
    "    # if playlist[0]['dsc'] != description:\n",
    "    #     raise ValueError(f\"{playlist[0]['dsc']} is different that {description}\")\n",
    "    # match = list()\n",
    "    # match = p.findall(description)\n",
    "    # event_msg_action = re.sub(' ', '_', match[0][1]).upper()\n",
    "    print(video_event)\n",
    "\n",
    "    videos_directory = pathlib.Path('videos')\n",
    "    video_directory = videos_directory.joinpath(game_id).joinpath(str(event_id))\n",
    "    video_directory.mkdir(parents=True, exist_ok=True)\n",
    "    bad_videos_directory = videos_directory.joinpath('Bad Videos')\n",
    "    bad_videos_directory.mkdir(parents=True, exist_ok=True)\n",
    "    bad_video_directory = bad_videos_directory.joinpath(game_id).joinpath(str(event_id))\n",
    "\n",
    "    info_path = video_directory.joinpath('info.json')\n",
    "    video_path = video_directory.joinpath('video.mp4').as_posix()\n",
    "    # Save video_event info\n",
    "    with open(info_path, \"w\") as outfile:\n",
    "        json.dump(video_event, outfile)\n",
    "    # Save video\n",
    "\n",
    "    ydl_opts = {'outtmpl': video_path}\n",
    "    with youtube_dl.YoutubeDL(ydl_opts) as ydl:\n",
    "        ydl.download([video_urls[0]['lurl']])\n",
    "\n",
    "    # Define the duration (in seconds) of the video to be cut after the starting point\n",
    "    cut_duration = 6\n",
    "    # If we want a video around `play_clock_time`, we need to start before `play_clock_time`\n",
    "    # TODO - For inbound plays, we may start the video with the clock too close to play_clock_time, so this wont work\n",
    "    start_condition = add_seconds_to_time(play_clock_time, seconds_to_add=cut_duration // 1.5)\n",
    "    output_path = video_directory.joinpath('cut_video.mp4').as_posix()\n",
    "\n",
    "    print(f\"Cutting {video_path} from {start_condition}\") # This part can be threaded\n",
    "    is_recording_successful = cut_video(video_path, start_condition, cut_duration, output_path)\n",
    "    if not is_recording_successful:\n",
    "        # We need to move the video to a different folder for farther examination\n",
    "        copytree(video_directory, bad_video_directory, dirs_exist_ok=True)\n",
    "        rmtree(video_directory.parent)\n",
    "\n",
    "    if len(video_events) == NUMBER_OF_PLAYS:\n",
    "        break"
   ],
   "metadata": {
    "collapsed": false
   }
  },
  {
   "cell_type": "code",
   "execution_count": null,
   "outputs": [],
   "source": [
    "print(get_video_event_dict.retry.statistics)"
   ],
   "metadata": {
    "collapsed": false
   }
  },
  {
   "cell_type": "code",
   "execution_count": null,
   "outputs": [],
   "source": [
    "game_event_action_ids"
   ],
   "metadata": {
    "collapsed": false
   }
  },
  {
   "cell_type": "code",
   "execution_count": null,
   "outputs": [],
   "source": [
    "df = pd.DataFrame(video_events)\n",
    "df.value_counts('event_action_id')"
   ],
   "metadata": {
    "collapsed": false
   }
  },
  {
   "cell_type": "code",
   "execution_count": null,
   "outputs": [],
   "source": [
    "# from utils import cut_video, add_seconds_to_time\n",
    "# import os\n",
    "# import json\n",
    "#\n",
    "# for root, dirs, files in os.walk(r\"Videos\\Bad Videos\", topdown=False):\n",
    "#     for name in files:\n",
    "#         if name.endswith('.json'):\n",
    "#             with open(os.path.join(root, name)) as json_file:\n",
    "#                 video_event = json.load(json_file)\n",
    "#                 play_clock_time = video_event['time']\n",
    "#         elif name == \"video.mp4\":\n",
    "#             video_path = os.path.join(root, name)\n",
    "#\n",
    "#     # If we want a video around `play_clock_time`, we need to start before `play_clock_time`\n",
    "#     start_condition = add_seconds_to_time(play_clock_time, seconds_to_add=cut_duration // 1.5)\n",
    "#     output_path = os.path.join(root, 'cut_video.mp4')\n",
    "#     is_recording_successful = cut_video(video_path, start_condition, cut_duration, output_path)"
   ],
   "metadata": {
    "collapsed": false
   }
  }
 ],
 "metadata": {
  "kernelspec": {
   "display_name": "Python 3",
   "language": "python",
   "name": "python3"
  },
  "language_info": {
   "codemirror_mode": {
    "name": "ipython",
    "version": 2
   },
   "file_extension": ".py",
   "mimetype": "text/x-python",
   "name": "python",
   "nbconvert_exporter": "python",
   "pygments_lexer": "ipython2",
   "version": "2.7.6"
  }
 },
 "nbformat": 4,
 "nbformat_minor": 0
}
