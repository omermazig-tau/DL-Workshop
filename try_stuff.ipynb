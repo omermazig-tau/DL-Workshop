{
 "cells": [
  {
   "cell_type": "code",
   "execution_count": null,
   "outputs": [],
   "source": [
    "import pandas as pd\n",
    "\n",
    "# from nba_api.stats.library.data import teams\n",
    "# team_id_to_name = {team[0]: team[-3] for team in teams}"
   ],
   "metadata": {
    "collapsed": false
   }
  },
  {
   "cell_type": "code",
   "execution_count": null,
   "outputs": [],
   "source": [
    "from nba_api.stats.endpoints import *"
   ],
   "metadata": {
    "collapsed": false
   }
  },
  {
   "cell_type": "code",
   "execution_count": null,
   "outputs": [],
   "source": [
    "from utils import gap_manager\n",
    "\n",
    "with gap_manager.action_gap():\n",
    "    game_ids = \\\n",
    "        leaguegamefinder.LeagueGameFinder(league_id_nullable='00').get_data_frames()[0].drop_duplicates(\n",
    "            subset='GAME_ID',\n",
    "            keep='first')[\n",
    "            'GAME_ID']"
   ],
   "metadata": {
    "collapsed": false
   }
  },
  {
   "cell_type": "code",
   "execution_count": null,
   "outputs": [],
   "source": [
    "from collections import defaultdict\n",
    "from utils import get_pbp_data, get_shots_event_data_from_game_df, get_event_msg_action\n",
    "\n",
    "game_event_action_ids = defaultdict(set)\n",
    "\n",
    "num_of_games = len(game_ids)\n",
    "for i, game_id in enumerate(game_ids, start=1):\n",
    "    print(f\"Game {i}/{num_of_games}\")\n",
    "    df = get_pbp_data(game_id=game_id)\n",
    "    df = get_shots_event_data_from_game_df(df)\n",
    "    if len(df.index) == 0:\n",
    "        # This means the after the filtering there aren't enough shots left (probably no video for most of the game)\n",
    "        print(f\"{game_id} doesn't have shots with videos...\")\n",
    "        continue\n",
    "\n",
    "    for _, shot_event_data in df.iterrows():\n",
    "        _, event_action_id, _, _, description, _, video_available_flag = shot_event_data\n",
    "        if not video_available_flag:\n",
    "            continue\n",
    "        event_msg_action = get_event_msg_action(description)\n",
    "        if event_msg_action:\n",
    "            game_event_action_ids[event_action_id].add(event_msg_action)\n",
    "\n",
    "display({k:game_event_action_ids[k] for k in sorted(game_event_action_ids.keys())})"
   ],
   "metadata": {
    "collapsed": false
   }
  },
  {
   "cell_type": "code",
   "execution_count": null,
   "outputs": [],
   "source": [
    "from collections import defaultdict\n",
    "from shutil import copytree\n",
    "from shutil import rmtree\n",
    "import numpy as np\n",
    "import json\n",
    "import pathlib\n",
    "import youtube_dl\n",
    "\n",
    "from utils import get_pbp_data, get_video_event_dict, cut_video, add_seconds_to_time, get_event_msg_action, \\\n",
    "    get_shots_event_data_from_game_df\n",
    "\n",
    "# pandas random relay on numpy random, so this sets the seed for it too\n",
    "# TODO - remove this eventually\n",
    "# np.random.seed(42)\n",
    "\n",
    "NUMBER_OF_GAMES = 100\n",
    "NUMBER_OF_PLAYS_PER_GAMES = 10\n",
    "NUMBER_OF_PLAYS = NUMBER_OF_GAMES * NUMBER_OF_PLAYS_PER_GAMES\n",
    "\n",
    "game_event_action_ids = defaultdict(set)\n",
    "video_events = list()\n",
    "\n",
    "random_game_ids = game_ids.sample(NUMBER_OF_GAMES, replace=True)\n",
    "for game_id in random_game_ids:\n",
    "    df = get_pbp_data(game_id=game_id)\n",
    "    df = get_shots_event_data_from_game_df(df)\n",
    "    if len(df.index) < NUMBER_OF_PLAYS_PER_GAMES:\n",
    "        # This means the after the filtering there aren't enough shots left (probably no video for most of the game)\n",
    "        print(f\"{game_id} doesn't have over {NUMBER_OF_PLAYS_PER_GAMES} video records of shots...\")\n",
    "        continue\n",
    "\n",
    "    for _, random_shot_event_data in df.sample(NUMBER_OF_PLAYS_PER_GAMES).iterrows():\n",
    "        event_id, event_action_id, period, play_clock_time, description, event_msg_type, video_available_flag = \\\n",
    "            random_shot_event_data\n",
    "\n",
    "        if not video_available_flag:\n",
    "            continue\n",
    "\n",
    "        video_event_dict = get_video_event_dict(game_id=game_id, game_event_id=str(event_id))\n",
    "        video_urls = video_event_dict['resultSets']['Meta']['videoUrls']\n",
    "        playlist = video_event_dict['resultSets']['playlist']\n",
    "\n",
    "        if playlist[0]['dsc'] != description:\n",
    "            # If those are different for reason other than the BLOCK information addition, we want to know\n",
    "            raise ValueError(f\"{playlist[0]['dsc']} is different that {description}\")\n",
    "        event_msg_action = get_event_msg_action(description)\n",
    "        if event_msg_action:\n",
    "            game_event_action_ids[event_action_id].add(event_msg_action)\n",
    "\n",
    "        video_event = {'desc': playlist[0]['dsc'], 'time': play_clock_time, 'event_action_id': event_action_id,\n",
    "                       'video': video_urls[0]['lurl'], 'event_msg_action': event_msg_action}\n",
    "        video_events.append(video_event)\n",
    "        print(video_event)\n",
    "\n",
    "\n",
    "        videos_directory = pathlib.Path('videos')\n",
    "        video_directory_name = f\"{game_id}_{str(event_id)}\"\n",
    "        video_directory = videos_directory.joinpath(video_directory_name)\n",
    "        if video_directory.exists():\n",
    "            # I guess the video already exists... Maybe from a previous run\n",
    "            continue\n",
    "        video_directory.mkdir(parents=True, exist_ok=True)\n",
    "        bad_videos_directory = videos_directory.joinpath('Bad Videos')\n",
    "        bad_videos_directory.mkdir(parents=True, exist_ok=True)\n",
    "        bad_video_directory = bad_videos_directory.joinpath(video_directory_name)\n",
    "\n",
    "        info_path = video_directory.joinpath('info.json')\n",
    "        video_path = video_directory.joinpath('video.mp4').as_posix()\n",
    "        # Save video_event info\n",
    "        with open(info_path, \"w\") as outfile:\n",
    "            json.dump(video_event, outfile)\n",
    "        # Save video\n",
    "        ydl_opts = {'outtmpl': video_path}\n",
    "        with youtube_dl.YoutubeDL(ydl_opts) as ydl:\n",
    "            ydl.download([video_urls[0]['lurl']])\n",
    "\n",
    "        # Define the duration (in seconds) of the video to be cut after the starting point\n",
    "        cut_duration = 6\n",
    "        # If we want a video around `play_clock_time`, we need to start before `play_clock_time`\n",
    "        # TODO - For inbound plays, we may start the video with the clock too close to play_clock_time, so this wont work\n",
    "        start_condition = add_seconds_to_time(play_clock_time, seconds_to_add=cut_duration // 1.5)\n",
    "        output_path = video_directory.joinpath('cut_video.mp4').as_posix()\n",
    "\n",
    "        print(f\"Cutting {video_path} from {start_condition}\") # This part can be threaded\n",
    "        is_recording_successful = cut_video(video_path, start_condition, cut_duration, output_path)\n",
    "        if not is_recording_successful:\n",
    "            # We need to move the video to a different folder for farther examination\n",
    "            copytree(video_directory, bad_video_directory, dirs_exist_ok=True)\n",
    "            rmtree(video_directory)"
   ],
   "metadata": {
    "collapsed": false
   }
  },
  {
   "cell_type": "code",
   "execution_count": null,
   "outputs": [],
   "source": [
    "from utils import prior_shot_type_to_shot_dsc\n",
    "\n",
    "display({k:v for k,v in game_event_action_ids.items() if k not in prior_shot_type_to_shot_dsc})"
   ],
   "metadata": {
    "collapsed": false
   }
  },
  {
   "cell_type": "code",
   "execution_count": null,
   "outputs": [],
   "source": [
    "df = pd.DataFrame(video_events)\n",
    "display(df.value_counts('event_action_id'))"
   ],
   "metadata": {
    "collapsed": false
   }
  },
  {
   "cell_type": "code",
   "execution_count": null,
   "outputs": [],
   "source": [
    "# from utils import cut_video, add_seconds_to_time\n",
    "# import os\n",
    "# import json\n",
    "#\n",
    "# for root, dirs, files in os.walk(r\"Videos\\Bad Videos\", topdown=False):\n",
    "#     if not dirs:\n",
    "#         for name in files:\n",
    "#             if name.endswith('.json'):\n",
    "#                 with open(os.path.join(root, name)) as json_file:\n",
    "#                     video_event = json.load(json_file)\n",
    "#                     play_clock_time = video_event['time']\n",
    "#             elif name == \"video.mp4\":\n",
    "#                 video_path = os.path.join(root, name)\n",
    "#\n",
    "#         # If we want a video around `play_clock_time`, we need to start before `play_clock_time`\n",
    "#         start_condition = add_seconds_to_time(play_clock_time, seconds_to_add=6 // 1.5)\n",
    "#         output_path = os.path.join(root, 'cut_video.mp4')\n",
    "#         print(f'Cutting {video_path}')\n",
    "#         is_recording_successful = cut_video(video_path, start_condition, 6, output_path)"
   ],
   "metadata": {
    "collapsed": false
   }
  }
 ],
 "metadata": {
  "kernelspec": {
   "display_name": "Python 3",
   "language": "python",
   "name": "python3"
  },
  "language_info": {
   "codemirror_mode": {
    "name": "ipython",
    "version": 2
   },
   "file_extension": ".py",
   "mimetype": "text/x-python",
   "name": "python",
   "nbconvert_exporter": "python",
   "pygments_lexer": "ipython2",
   "version": "2.7.6"
  }
 },
 "nbformat": 4,
 "nbformat_minor": 0
}
