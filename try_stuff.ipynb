{
 "cells": [
  {
   "cell_type": "code",
   "execution_count": null,
   "outputs": [],
   "source": [
    "import pandas as pd\n",
    "\n",
    "# from nba_api.stats.library.data import teams\n",
    "# team_id_to_name = {team[0]: team[-3] for team in teams}"
   ],
   "metadata": {
    "collapsed": false
   }
  },
  {
   "cell_type": "code",
   "execution_count": null,
   "outputs": [],
   "source": [
    "from nba_api.stats.endpoints import *"
   ],
   "metadata": {
    "collapsed": false
   }
  },
  {
   "cell_type": "code",
   "execution_count": null,
   "outputs": [],
   "source": [
    "from utils import gap_manager\n",
    "\n",
    "with gap_manager.action_gap():\n",
    "    game_ids = \\\n",
    "        leaguegamefinder.LeagueGameFinder(league_id_nullable='00').get_data_frames()[0].drop_duplicates(subset='GAME_ID',\n",
    "                                                                                                        keep='first')[\n",
    "            'GAME_ID']"
   ],
   "metadata": {
    "collapsed": false
   }
  },
  {
   "cell_type": "code",
   "execution_count": null,
   "outputs": [],
   "source": [
    "import youtube_dl\n",
    "import re\n",
    "\n",
    "from utils import get_pbp_data, get_video_event_dict\n",
    "\n",
    "NUMBER_OF_PLAYS = 10\n",
    "\n",
    "game_event_action_ids = set()\n",
    "video_events = list()\n",
    "\n",
    "p = re.compile('(\\s{2}|\\' )([\\w+ ]*)')\n",
    "\n",
    "for _ in range(NUMBER_OF_PLAYS):\n",
    "    game_id = game_ids.sample(1)\n",
    "    df = get_pbp_data(game_id=game_id)\n",
    "    df['DESCRIPTION'] = df['HOMEDESCRIPTION'].fillna(df['VISITORDESCRIPTION'])\n",
    "    only_shots = df[df['EVENTMSGTYPE'] <= 2]\n",
    "    shots_event_data = only_shots[\n",
    "        ['EVENTNUM', 'EVENTMSGACTIONTYPE', 'PERIOD', 'PCTIMESTRING', 'DESCRIPTION', 'EVENTMSGTYPE',\n",
    "         'VIDEO_AVAILABLE_FLAG']]\n",
    "\n",
    "    random_shot_event_data = shots_event_data.sample(1)\n",
    "    event_id, event_action_id, period, play_clock_time, description, event_msg_type, video_available_flag = random_shot_event_data.iloc[0]\n",
    "    if video_available_flag:\n",
    "        game_event_action_ids.add(event_action_id)\n",
    "        json = get_video_event_dict(game_id=game_id, game_event_id=str(event_id))\n",
    "        video_urls = json['resultSets']['Meta']['videoUrls']\n",
    "        playlist = json['resultSets']['playlist']\n",
    "        video_event = {'desc': playlist[0]['dsc'], 'time': play_clock_time, 'event_action_id': event_action_id,\n",
    "                       'video': video_urls[0]['lurl'], }\n",
    "        video_events.append(video_event)\n",
    "\n",
    "        # if playlist[0]['dsc'] != description:\n",
    "        # if playlist[0]['dsc'] != description:\n",
    "        #     raise ValueError(f\"{playlist[0]['dsc']} is different that {description}\")\n",
    "        # match = list()\n",
    "        # match = p.findall(description)\n",
    "        # event_msg_action = re.sub(' ', '_', match[0][1]).upper()\n",
    "        print(video_event)\n",
    "\n",
    "        game_event_id = json['parameters']['GameEventID']\n",
    "        ydl_opts = {\n",
    "            'output': f'{game_id}_{game_event_id}',\n",
    "            '--output': f'{game_id}_{game_event_id}',\n",
    "            '-o': f'{game_id}_{game_event_id}',\n",
    "            'o': f'{game_id}_{game_event_id}',\n",
    "        }\n",
    "        with youtube_dl.YoutubeDL(ydl_opts) as ydl:\n",
    "            ydl.download([video_urls[0]['lurl']])"
   ],
   "metadata": {
    "collapsed": false
   }
  },
  {
   "cell_type": "code",
   "execution_count": null,
   "outputs": [],
   "source": [
    "print(get_video_event_dict.retry.statistics)"
   ],
   "metadata": {
    "collapsed": false
   }
  },
  {
   "cell_type": "code",
   "execution_count": null,
   "outputs": [],
   "source": [
    "game_event_action_ids"
   ],
   "metadata": {
    "collapsed": false
   }
  },
  {
   "cell_type": "code",
   "execution_count": null,
   "outputs": [],
   "source": [
    "df = pd.DataFrame(video_events)\n",
    "df.value_counts('event_action_id')"
   ],
   "metadata": {
    "collapsed": false
   }
  }
 ],
 "metadata": {
  "kernelspec": {
   "display_name": "Python 3",
   "language": "python",
   "name": "python3"
  },
  "language_info": {
   "codemirror_mode": {
    "name": "ipython",
    "version": 2
   },
   "file_extension": ".py",
   "mimetype": "text/x-python",
   "name": "python",
   "nbconvert_exporter": "python",
   "pygments_lexer": "ipython2",
   "version": "2.7.6"
  }
 },
 "nbformat": 4,
 "nbformat_minor": 0
}
