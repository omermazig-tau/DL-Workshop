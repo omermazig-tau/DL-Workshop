{
 "cells": [
  {
   "cell_type": "code",
   "execution_count": null,
   "outputs": [],
   "source": [
    "try:\n",
    "    # For running on colab\n",
    "    from google.colab import drive\n",
    "\n",
    "    drive.mount('/content/drive')\n",
    "    videos_directory_path = \"./drive/MyDrive/videos/\"\n",
    "except:\n",
    "    # For running on PC\n",
    "    videos_directory_path = \"new_videos\""
   ],
   "metadata": {
    "collapsed": false
   }
  },
  {
   "cell_type": "code",
   "execution_count": null,
   "outputs": [],
   "source": [
    "# !sudo apt install tesseract-ocr\n",
    "# !pip install nba-api youtube_dl pytesseract -U"
   ],
   "metadata": {
    "collapsed": false
   }
  },
  {
   "cell_type": "code",
   "execution_count": null,
   "outputs": [],
   "source": [
    "from nba_api.stats.endpoints import *"
   ],
   "metadata": {
    "collapsed": false
   }
  },
  {
   "cell_type": "code",
   "execution_count": null,
   "outputs": [],
   "source": [
    "from utils import gap_manager\n",
    "\n",
    "with gap_manager.action_gap():\n",
    "    game_ids = \\\n",
    "        leaguegamefinder.LeagueGameFinder(league_id_nullable='00').get_data_frames()[0].drop_duplicates(\n",
    "            subset='GAME_ID',\n",
    "            keep='first')[\n",
    "            'GAME_ID']"
   ],
   "metadata": {
    "collapsed": false
   }
  },
  {
   "cell_type": "code",
   "execution_count": null,
   "outputs": [],
   "source": [
    "from shutil import rmtree\n",
    "import pathlib\n",
    "\n",
    "from utils import get_pbp_data, cut_video, add_seconds_to_time, get_event_msg_action, \\\n",
    "    get_shots_event_data_from_game_df, prior_shot_type_to_shot_dsc, prior_shot_type_histogram, \\\n",
    "    get_video_event_info, download_video\n",
    "\n",
    "# pandas random relay on numpy random, so this sets the seed for it too\n",
    "# np.random.seed(42)\n",
    "\n",
    "# NUMBER_OF_GAMES = 100\n",
    "# NUMBER_OF_PLAYS_PER_GAMES = 10\n",
    "# NUMBER_OF_PLAYS = NUMBER_OF_GAMES * NUMBER_OF_PLAYS_PER_GAMES\n",
    "\n",
    "NUMBER_OF_DESIRED_PLAYS_PER_TYPE = 50\n",
    "MAX_NUMBER_OF_CLASS_VIDEOS_FROM_SAME_GAME = 1\n",
    "\n",
    "video_type_categories = [\n",
    "    'ALLEY_OOP_DUNK',\n",
    "    'CUTTING_LAYUP_SHOT',\n",
    "    'DRIVING_LAYUP',\n",
    "    'DUNK',\n",
    "    'FLOATING_JUMP_SHOT',\n",
    "    'HOOK_BANK_SHOT',\n",
    "    'JUMP_SHOT',\n",
    "    'REVERSE_DUNK',\n",
    "    'REVERSE_LAYUP',\n",
    "    'TURNAROUND_JUMP_SHOT',\n",
    "]\n",
    "\n",
    "number_of_games = len(game_ids)\n",
    "videos_directory = pathlib.Path(videos_directory_path)\n",
    "\n",
    "# Initialize `video_type_histogram` for relevant shot categories\n",
    "video_type_histogram = {\n",
    "    prior_shot_type_to_shot_dsc[k]: 0 \n",
    "    for k, v in prior_shot_type_histogram.items() \n",
    "    if v >= NUMBER_OF_DESIRED_PLAYS_PER_TYPE and prior_shot_type_to_shot_dsc[k] in video_type_categories \n",
    "}\n",
    "if videos_directory.exists():\n",
    "    # Update value for existing videos. \n",
    "    for shot_category, _ in video_type_histogram.items():\n",
    "        if videos_directory.joinpath(shot_category).exists():\n",
    "            video_type_histogram[shot_category] = len(list(videos_directory.joinpath(shot_category).iterdir()))\n",
    "\n",
    "for i, game_id in enumerate(game_ids.sample(frac=1), start=1):\n",
    "    print(f\"--------- Game {i}/{number_of_games}: {game_id} ---------\")\n",
    "    game_video_type_histogram = {k: 0 for k in video_type_histogram.keys()}\n",
    "\n",
    "    df = get_pbp_data(game_id=game_id)\n",
    "    df = get_shots_event_data_from_game_df(df)\n",
    "    if len(df.index) == 0:\n",
    "        # This means the after the filtering there aren't enough shots left (probably no video for most of the game)\n",
    "        print(f\"Game {game_id} doesn't have video records of shots...\")\n",
    "        continue\n",
    "\n",
    "    for _, random_shot_event_data in df.sample(frac=1).iterrows():\n",
    "        event_id, event_action_id, period, play_clock_time, description, event_msg_type, video_available_flag = \\\n",
    "            random_shot_event_data\n",
    "        video_description = prior_shot_type_to_shot_dsc.get(event_action_id)\n",
    "\n",
    "        if video_description is None or video_description not in video_type_categories:\n",
    "            # This means we're not looking for that shot type. Maybe it's a tip in or something we're trying to ignore...\n",
    "            print(f\"`{video_description}` is not a description we're looking for...\")\n",
    "            continue\n",
    "\n",
    "        if not video_available_flag:\n",
    "            print(f\"Event {event_id} doesn't have a video recording...\")\n",
    "            continue\n",
    "\n",
    "        if video_description not in game_video_type_histogram:\n",
    "            print(f\"we don't deal with {video_description} videos...\")\n",
    "            continue\n",
    "\n",
    "        if game_video_type_histogram[video_description] == MAX_NUMBER_OF_CLASS_VIDEOS_FROM_SAME_GAME:\n",
    "            print(f\"we have enough of {video_description} from this game...\")\n",
    "            continue\n",
    "\n",
    "        if video_type_histogram[video_description] >= NUMBER_OF_DESIRED_PLAYS_PER_TYPE:\n",
    "            # We have enough plays from this type. Skip.\n",
    "            print(f\"Apparently, we have enough of {video_description}...\")\n",
    "            continue\n",
    "\n",
    "        video_class_directory = videos_directory.joinpath(video_description)\n",
    "        video_directory_name = f\"{game_id}_{str(event_id)}\"\n",
    "        video_directory = video_class_directory.joinpath(video_directory_name)\n",
    "        \n",
    "        if video_directory.exists():\n",
    "            print(\"I guess we have that video already... Maybe from a previous run\")\n",
    "            continue\n",
    "\n",
    "        video_event_info = get_video_event_info(game_id=game_id, game_event_id=str(event_id))\n",
    "        if video_event_info['desc'] != description:\n",
    "            # If those are different for reason other than the BLOCK information addition, we want to know\n",
    "            raise ValueError(f\"{video_event_info['desc']} is different that {description}\")\n",
    "\n",
    "        event_msg_action = get_event_msg_action(description)\n",
    "        event_info = {\n",
    "            'game_id': game_id, 'event_id': event_id, 'time': play_clock_time,\n",
    "            'event_msg_type': event_msg_type,\n",
    "            'event_action_id': event_action_id,\n",
    "            'event_msg_action': event_msg_action\n",
    "        }\n",
    "        event_info.update(video_event_info)\n",
    "\n",
    "        video_directory.mkdir(parents=True)\n",
    "        info_path = video_directory.joinpath('info.json')\n",
    "        video_path = video_directory.joinpath('video.mp4')\n",
    "        print(f\"downloading video to {video_directory}\")\n",
    "        download_video(event_info, info_path, video_path)\n",
    "\n",
    "        # Define the duration (in seconds) of the video to be cut after the starting point\n",
    "        cut_duration = 6\n",
    "        # If we want a video around `play_clock_time`, we need to start before `play_clock_time`\n",
    "        # TODO - For inbound plays, we may start the video with the clock too close to play_clock_time, so this wont work\n",
    "        start_condition = add_seconds_to_time(play_clock_time, seconds_to_add=cut_duration // 1.5)\n",
    "        output_path = video_directory.joinpath('cut_video.mp4').as_posix()\n",
    "\n",
    "        # TODO - this part can be threaded\n",
    "        print(f\"Cutting {video_path.as_posix()} from {start_condition}\")\n",
    "        is_recording_successful = cut_video(video_path.as_posix(), start_condition, cut_duration, output_path)\n",
    "        if not is_recording_successful:\n",
    "            # We need to move the video to a different folder for farther examination\n",
    "            rmtree(video_directory)\n",
    "        else:\n",
    "            video_path.unlink()\n",
    "            game_video_type_histogram[video_description] += 1\n",
    "            video_type_histogram[video_description] += 1\n",
    "\n",
    "    if all(value == 50 for value in video_type_histogram.values()):\n",
    "        # If we got all the videos we need, exit\n",
    "        print(\"Got all the videos we need. Bye :-)\")\n",
    "        break\n",
    "\n",
    "# TODO - delete empty play type directories"
   ],
   "metadata": {
    "collapsed": false
   }
  },
  {
   "cell_type": "code",
   "execution_count": null,
   "outputs": [],
   "source": [
    "display(video_type_histogram)"
   ],
   "metadata": {
    "collapsed": false
   }
  },
  {
   "cell_type": "code",
   "execution_count": null,
   "outputs": [],
   "source": [
    "from utils import organize_dataset_from_videos_folder\n",
    "import pathlib\n",
    "\n",
    "# videos_directory = pathlib.Path('new_videos')\n",
    "number_of_videos_per_category = min([v for k, v in video_type_histogram.items() if k in video_type_categories])\n",
    "organize_dataset_from_videos_folder(videos_directory, \"new_dataset\", video_type_categories,\n",
    "                                    number_of_videos_per_category)"
   ],
   "metadata": {
    "collapsed": false
   }
  },
  {
   "cell_type": "code",
   "execution_count": null,
   "outputs": [],
   "source": [],
   "metadata": {
    "collapsed": false
   }
  }
 ],
 "metadata": {
  "kernelspec": {
   "display_name": "Python 3",
   "language": "python",
   "name": "python3"
  },
  "language_info": {
   "codemirror_mode": {
    "name": "ipython",
    "version": 2
   },
   "file_extension": ".py",
   "mimetype": "text/x-python",
   "name": "python",
   "nbconvert_exporter": "python",
   "pygments_lexer": "ipython2",
   "version": "2.7.6"
  }
 },
 "nbformat": 4,
 "nbformat_minor": 0
}
